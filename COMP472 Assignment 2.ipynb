{
  "nbformat": 4,
  "nbformat_minor": 0,
  "metadata": {
    "colab": {
      "provenance": []
    },
    "kernelspec": {
      "name": "python3",
      "display_name": "Python 3"
    },
    "language_info": {
      "name": "python"
    }
  },
  "cells": [
    {
      "cell_type": "markdown",
      "source": [
        "Task 1&2"
      ],
      "metadata": {
        "id": "dwNZ4KxF68Wx"
      }
    },
    {
      "cell_type": "code",
      "execution_count": 1,
      "metadata": {
        "colab": {
          "base_uri": "https://localhost:8080/"
        },
        "id": "9H-C_lI6KV_t",
        "outputId": "1a181f06-5650-45f9-a3bd-eaa39ad860e0"
      },
      "outputs": [
        {
          "output_type": "stream",
          "name": "stdout",
          "text": [
            "[==================================================] 100.0% 1662.8/1662.8MB downloaded\n",
            "[==================================================] 100.0% 758.5/758.5MB downloaded\n",
            "[==================================================] 100.0% 252.1/252.1MB downloaded\n",
            "[==================================================] 100.0% 104.8/104.8MB downloaded\n",
            "[==================================================] 100.0% 387.1/387.1MB downloaded\n"
          ]
        }
      ],
      "source": [
        "import gensim.downloader as api\n",
        "nameT1 = \"word2vec-google-news-300\"\n",
        "nameC1 = \"glove-twitter-200\"\n",
        "nameC2 = \"glove-wiki-gigaword-200\"\n",
        "nameC3 = \"glove-twitter-25\"\n",
        "nameC4 =\"glove-twitter-100\"\n",
        "\n",
        "#Model Task 1\n",
        "google300 = api.load(nameT1)\n",
        "\n",
        "#Model C1\n",
        "twitter200 = api.load(nameC1)\n",
        "\n",
        "#Model C2\n",
        "wiki200 = api.load(nameC2)\n",
        "\n",
        "#Model C3\n",
        "twitter25 = api.load(nameC3)\n",
        "\n",
        "#Model C4\n",
        "twitter100 = api.load(nameC4)\n"
      ]
    },
    {
      "cell_type": "code",
      "source": [
        "import pandas as pd\n",
        "from io import StringIO\n",
        "import numpy as np\n",
        "import matplotlib.pyplot as plt\n",
        "\n",
        "synonymFilepath = '/content/synonym.csv'\n",
        "data = pd.read_csv(synonymFilepath)\n",
        "question_words = np.array(data.pop(\"question\"))\n",
        "answer_words = np.array(data.pop(\"answer\"))\n",
        "option_words = np.array(data)\n",
        "\n",
        "labelsT1 = np.empty((80,), dtype = np.dtype('U7'))\n",
        "labelsC1 = np.empty((80,), dtype = np.dtype('U7'))\n",
        "labelsC2 = np.empty((80,), dtype = np.dtype('U7'))\n",
        "labelsC3 = np.empty((80,), dtype = np.dtype('U7'))\n",
        "labelsC4 = np.empty((80,), dtype = np.dtype('U7'))"
      ],
      "metadata": {
        "id": "TBC_de3MKwFo"
      },
      "execution_count": 15,
      "outputs": []
    },
    {
      "cell_type": "code",
      "source": [
        "def word_guesser(model, labels, modelName):\n",
        "  detailsFile = open(\"%s%s\" % (modelName,'-details.csv'), 'w')\n",
        "  detailsFile.write('question-word,answer-word,model guess word,label\\n')\n",
        "  i = 0\n",
        "  while i<len(question_words):\n",
        "    missing_options = 0\n",
        "    try:\n",
        "      model[question_words[i]]\n",
        "    except KeyError:\n",
        "      labels[i] = 'guess'\n",
        "      detailsFile.write('%s,%s,%s,%s\\n' % (question_words[i], answer_words[i], '', 'guess'))\n",
        "      i+=1\n",
        "      continue\n",
        "    for j in option_words[i]:\n",
        "      try:\n",
        "        model[j]\n",
        "      except KeyError:\n",
        "        missing_options+=1\n",
        "    if missing_options == 4:\n",
        "      labels[i] = 'guess'\n",
        "      detailsFile.write('%s,%s,%s,%s\\n' % (question_words[i], answer_words[i], '', 'guess'))\n",
        "      i+=1\n",
        "      continue\n",
        "    score = 0\n",
        "    best_word = 0\n",
        "    ##########################################\n",
        "\n",
        "    for j in option_words[i]:\n",
        "      try:\n",
        "        if score < model.similarity(question_words[i], j):\n",
        "          score = model.similarity(question_words[i], j)\n",
        "          best_word = j\n",
        "      except KeyError:\n",
        "        continue\n",
        "    if best_word == answer_words[i]:\n",
        "      labels[i] = 'correct'\n",
        "      detailsFile.write('%s,%s,%s,%s\\n' % (question_words[i], answer_words[i], best_word, 'correct'))\n",
        "      i+=1\n",
        "    else:\n",
        "      labels[i] = 'wrong'\n",
        "      detailsFile.write('%s,%s,%s,%s\\n' % (question_words[i], answer_words[i], best_word, 'wrong'))\n",
        "      i+=1\n",
        "\n",
        "  detailsFile.close()\n",
        "\n",
        "word_guesser(google300, labelsT1, nameT1)\n",
        "word_guesser(twitter200, labelsC1, nameC1)\n",
        "word_guesser(wiki200, labelsC2, nameC2)\n",
        "word_guesser(twitter25, labelsC3, nameC3)\n",
        "word_guesser(twitter100, labelsC4, nameC4)"
      ],
      "metadata": {
        "id": "eQICaGdPWt-j"
      },
      "execution_count": 4,
      "outputs": []
    },
    {
      "cell_type": "code",
      "source": [
        "labelsT1_correct = np.count_nonzero(np.where(labelsT1 == \"correct\",1,0))\n",
        "labelsT1_wrong = np.count_nonzero(np.where(labelsT1 == 'wrong',1,0))\n",
        "labelsT1_guess = np.count_nonzero(np.where(labelsT1 == \"guess\",1,0))\n",
        "\n",
        "labelsC1_correct = np.count_nonzero(np.where(labelsC1 == \"correct\",1,0))\n",
        "labelsC1_wrong = np.count_nonzero(np.where(labelsC1 == 'wrong',1,0))\n",
        "labelsC1_guess = np.count_nonzero(np.where(labelsC1 == \"guess\",1,0))\n",
        "\n",
        "labelsC2_correct = np.count_nonzero(np.where(labelsC2 == \"correct\",1,0))\n",
        "labelsC2_wrong = np.count_nonzero(np.where(labelsC2 == 'wrong',1,0))\n",
        "labelsC2_guess = np.count_nonzero(np.where(labelsC2 == \"guess\",1,0))\n",
        "\n",
        "labelsC3_correct = np.count_nonzero(np.where(labelsC3 == \"correct\",1,0))\n",
        "labelsC3_wrong = np.count_nonzero(np.where(labelsC3 == 'wrong',1,0))\n",
        "labelsC3_guess = np.count_nonzero(np.where(labelsC3 == \"guess\",1,0))\n",
        "\n",
        "labelsC4_correct = np.count_nonzero(np.where(labelsC4 == \"correct\",1,0))\n",
        "labelsC4_wrong = np.count_nonzero(np.where(labelsC4 == 'wrong',1,0))\n",
        "labelsC4_guess = np.count_nonzero(np.where(labelsC4 == \"guess\",1,0))"
      ],
      "metadata": {
        "id": "Zcp86v4rPtfd"
      },
      "execution_count": 5,
      "outputs": []
    },
    {
      "cell_type": "code",
      "source": [
        "analysis = open(\"analysis.csv\", 'w')\n",
        "analysis.write(\"model name,size of vocabulary,number of correct labels (C), number of labels that aren't 'guess' (V),model accuracy (C/V)\\n\")"
      ],
      "metadata": {
        "id": "IMaxyX2b0DfB",
        "colab": {
          "base_uri": "https://localhost:8080/"
        },
        "outputId": "e5825b4d-3703-406f-c77a-9a5bb0e19db4"
      },
      "execution_count": 7,
      "outputs": [
        {
          "output_type": "execute_result",
          "data": {
            "text/plain": [
              "122"
            ]
          },
          "metadata": {},
          "execution_count": 7
        }
      ]
    },
    {
      "cell_type": "code",
      "source": [
        "analysis.write(\"%s,%d,%d,%d,%.16f\\n\" % (nameC1,len(google300), labelsT1_correct, labelsT1_correct+labelsT1_wrong, labelsT1_correct/(labelsT1_correct+labelsT1_wrong)))\n",
        "analysis.write(\"%s,%d,%d,%d,%.16f\\n\" % (nameC1,len(twitter200), labelsC1_correct, labelsC1_correct+labelsC1_wrong,labelsC1_correct/(labelsC1_correct+labelsC1_wrong)))\n",
        "analysis.write(\"%s,%d,%d,%d,%.16f\\n\" % (nameC2,len(wiki200), labelsC2_correct, labelsC2_correct+labelsC2_wrong,labelsC2_correct/(labelsC2_correct+labelsC2_wrong)))\n",
        "analysis.write(\"%s,%d,%d,%d,%.16f\\n\" % (nameC3,len(twitter25), labelsC3_correct, labelsC3_correct+labelsC3_wrong,labelsC3_correct/(labelsC3_correct+labelsC3_wrong)))\n",
        "analysis.write(\"%s,%d,%d,%d,%.16f\\n\" % (nameC4,len(twitter100), labelsC4_correct, labelsC4_correct+labelsC4_wrong,labelsC4_correct/(labelsC4_correct+labelsC4_wrong)))"
      ],
      "metadata": {
        "colab": {
          "base_uri": "https://localhost:8080/"
        },
        "id": "3V7wBwGX6FNR",
        "outputId": "0a35867d-8663-489e-aa58-8b7c8cb71dd8"
      },
      "execution_count": 8,
      "outputs": [
        {
          "output_type": "execute_result",
          "data": {
            "text/plain": [
              "51"
            ]
          },
          "metadata": {},
          "execution_count": 8
        }
      ]
    },
    {
      "cell_type": "code",
      "source": [
        "models = (\n",
        "    'google300',\n",
        "    'twitter200',\n",
        "    'wiki200',\n",
        "    'twitter25',\n",
        "    'twitter100',\n",
        ")\n",
        "\n",
        "values = {\n",
        "    'correct': np.array([labelsT1_correct,labelsC1_correct,labelsC2_correct,labelsC3_correct,labelsC4_correct]),\n",
        "    'wrong': np.array([labelsT1_wrong,labelsC1_wrong,labelsC2_wrong,labelsC3_wrong,labelsC4_wrong]),\n",
        "    'guess': np.array([labelsT1_guess,labelsC1_guess,labelsC2_guess,labelsC3_guess,labelsC4_guess])\n",
        "}\n",
        "\n",
        "\n",
        "fig, ax = plt.subplots(1,1)\n",
        "\n",
        "bottom = np.zeros(5)\n",
        "\n",
        "for boolean, values in values.items():\n",
        "    p = ax.bar(models, values, width=0.5, label=boolean, bottom=bottom)\n",
        "    bottom += values\n",
        "\n",
        "ax.set_title('Resulting Labels of Each Model on the Synonym List')\n",
        "ax.legend(loc='upper right', ncol=3)\n",
        "ax.set_ylim(bottom=0, top=100)\n",
        "plt.show();"
      ],
      "metadata": {
        "colab": {
          "base_uri": "https://localhost:8080/",
          "height": 452
        },
        "id": "THb5F3uKwjbv",
        "outputId": "73d40098-0132-4b1f-bc93-a9b88cc3dccc"
      },
      "execution_count": 9,
      "outputs": [
        {
          "output_type": "display_data",
          "data": {
            "text/plain": [
              "<Figure size 640x480 with 1 Axes>"
            ],
            "image/png": "[encoded data removed]"
          },
          "metadata": {}
        }
      ]
    },
    {
      "cell_type": "markdown",
      "source": [
        "Task 3"
      ],
      "metadata": {
        "id": "gn5ohSO8AQ1C"
      }
    },
    {
      "cell_type": "code",
      "execution_count": 16,
      "metadata": {
        "id": "625da7f6",
        "colab": {
          "base_uri": "https://localhost:8080/"
        },
        "outputId": "2c61e9c7-77b6-409d-d2bb-41d3d2e96093"
      },
      "outputs": [
        {
          "output_type": "stream",
          "name": "stderr",
          "text": [
            "[nltk_data] Downloading package punkt to /root/nltk_data...\n",
            "[nltk_data]   Package punkt is already up-to-date!\n",
            "WARNING:gensim.models.word2vec:Effective 'alpha' higher than previous training cycles\n",
            "WARNING:gensim.models.word2vec:Effective 'alpha' higher than previous training cycles\n",
            "WARNING:gensim.models.word2vec:Effective 'alpha' higher than previous training cycles\n",
            "WARNING:gensim.models.word2vec:Effective 'alpha' higher than previous training cycles\n"
          ]
        }
      ],
      "source": [
        "import numpy as np\n",
        "import requests\n",
        "from bs4 import BeautifulSoup\n",
        "from nltk.tokenize import word_tokenize, sent_tokenize\n",
        "import gensim\n",
        "import pandas as pd\n",
        "import matplotlib.pyplot as plt\n",
        "import nltk\n",
        "nltk.download('punkt')\n",
        "\n",
        "# Function to download and preprocess HTML content from a URL\n",
        "def preprocess_html(url):\n",
        "    response = requests.get(url)\n",
        "    soup = BeautifulSoup(response.content, 'html.parser')\n",
        "    text = soup.get_text()\n",
        "    sentences = [word_tokenize(sentence.lower()) for sentence in sent_tokenize(text)]\n",
        "    return sentences\n",
        "\n",
        "# Function to process multiple URLs\n",
        "def preprocess_html_files_for_multiple_urls(urls):\n",
        "    results = []\n",
        "    for url in urls:\n",
        "        results.extend(preprocess_html(url))\n",
        "    return results\n",
        "\n",
        "# URLs for the five books\n",
        "urls = [\n",
        "\n",
        "    'https://www.gutenberg.org/cache/epub/72177/pg72177-images.html',\n",
        "    'https://www.gutenberg.org/cache/epub/72122/pg72122-images.html',\n",
        "    'https://www.gutenberg.org/cache/epub/72179/pg72179-images.html',\n",
        "    'https://www.gutenberg.org/cache/epub/72182/pg72182-images.html',\n",
        "    'https://www.gutenberg.org/cache/epub/72178/pg72178-images.html'\n",
        "]\n",
        "\n",
        "# Concatenate the tokenized sentences from all books\n",
        "all_sentences = preprocess_html_files_for_multiple_urls(urls)\n",
        "\n",
        "# Function to train Word2Vec model\n",
        "def train_word_to_vec(sentences, window_size, embedding_size):\n",
        "    trained_model = gensim.models.Word2Vec(sentences, window=window_size, vector_size=embedding_size)\n",
        "    trained_model.train(sentences, total_examples=len(sentences), epochs=trained_model.epochs)\n",
        "    return trained_model\n",
        "\n",
        "# Train Word2Vec models with different parameters\n",
        "model_1 = train_word_to_vec(all_sentences, 5, 100)\n",
        "model_2 = train_word_to_vec(all_sentences, 5, 300)\n",
        "model_3 = train_word_to_vec(all_sentences, 10, 100)\n",
        "model_4 = train_word_to_vec(all_sentences, 10, 300)\n",
        "\n",
        "\n",
        "synonym = pd.read_csv(synonymFilepath)\n",
        "def get_results(model):\n",
        "    results = {\"question\": [], \"answer\": [], \"prediction\": [], \"label\": []}\n",
        "    for row in synonym.iterrows():\n",
        "        predictions = []\n",
        "        question = row[1][\"question\"]\n",
        "        answer = row[1][\"answer\"]\n",
        "        options = [row[1][\"0\"], row[1][\"1\"], row[1][\"2\"], row[1][\"3\"]]\n",
        "        if isinstance(model, gensim.models.Word2Vec) and question in model.wv:\n",
        "            for option in options:\n",
        "                if option in model.wv:\n",
        "                    predictions.append([option, model.wv.similarity(option, question)])\n",
        "            if len(predictions) != 4:\n",
        "                label = 'guess'\n",
        "            else:\n",
        "                prediction = max(predictions, key=lambda x: x[1])\n",
        "                if prediction[0] == answer:\n",
        "                    label = 'correct'\n",
        "                else:\n",
        "                    label = 'wrong'\n",
        "        else:\n",
        "            label = 'guess'\n",
        "            prediction = [row[1][str(np.random.randint(0, 4))]]\n",
        "        results[\"question\"].append(question)\n",
        "        results[\"answer\"].append(answer)\n",
        "        results[\"prediction\"].append(prediction[0])\n",
        "        results[\"label\"].append(label)\n",
        "    return results\n",
        "\n",
        "def create_model_details(model, model_name):\n",
        "    results = get_results(model)\n",
        "    model_csv_file = f\"{model_name}-details.csv\"\n",
        "    with open(model_csv_file, 'w') as f:\n",
        "        f.write(\"Question,Answer,Guess,Label\\n\")\n",
        "        for i in range(len(results[\"question\"])):\n",
        "            f.write(f\"{results['question'][i]},{results['answer'][i]},{results['prediction'][i]},{results['label'][i]}\\n\")\n",
        "    with open(\"analysis.csv\", 'a') as f:\n",
        "        f.write(f\"{model_name},{len(results['question'])},{results['label'].count('correct')},{len(results['question']) - results['label'].count('guess')},{results['label'].count('correct') / (len(results['question']) - results['label'].count('guess')) if (len(results['question']) - results['label'].count('guess')) > 0 else 0}\\n\")\n",
        "\n",
        "# Create the model details for each model\n",
        "create_model_details(model_1, \"word2vec-5-100\")\n",
        "create_model_details(model_2, \"word2vec-5-300\")\n",
        "create_model_details(model_3, \"word2vec-10-100\")\n",
        "create_model_details(model_4, \"word2vec-10-300\")\n"
      ]
    },
    {
      "cell_type": "code",
      "source": [
        "analysis.close()"
      ],
      "metadata": {
        "id": "93r9Sct16WD3"
      },
      "execution_count": 11,
      "outputs": []
    },
    {
      "cell_type": "code",
      "execution_count": null,
      "metadata": {
        "id": "9cd8fd3b",
        "outputId": "6ce569b8-65a6-4b52-897f-61a59a2d8841"
      },
      "outputs": [
        {
          "data": {
            "image/png": "[encoded data removed]",
            "text/plain": [
              "<Figure size 1000x1000 with 1 Axes>"
            ]
          },
          "metadata": {},
          "output_type": "display_data"
        }
      ],
      "source": [
        "\n",
        "# Plot the accuracy for each model\n",
        "# Read the analysis.csv file\n",
        "df = pd.read_csv('analysis.csv', sep=\",\",header=0)\n",
        "\n",
        "plt.figure(figsize=(10, 10))\n",
        "bars = plt.barh(df['Model Name'], df['Accuracy'])\n",
        "\n",
        "# Annotate each bar with its value\n",
        "for bar in bars:\n",
        "    xval = bar.get_width()\n",
        "    plt.text(xval + 0.01, bar.get_y() + bar.get_height()/2, round(xval, 2), va='center')\n",
        "\n",
        "plt.title('Accuracy comprarison of models')\n",
        "plt.ylabel('Model Name')\n",
        "plt.xlabel('Accuracy')\n",
        "plt.show()"
      ]
    }
  ]
}